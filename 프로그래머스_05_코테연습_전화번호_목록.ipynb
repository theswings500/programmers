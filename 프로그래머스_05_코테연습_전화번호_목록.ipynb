{
 "cells": [
  {
   "cell_type": "code",
   "execution_count": 3,
   "metadata": {},
   "outputs": [
    {
     "name": "stdout",
     "output_type": "stream",
     "text": [
      "{'119': 0, '97674223': 0, '1195524421': 0}\n"
     ]
    },
    {
     "data": {
      "text/plain": [
       "False"
      ]
     },
     "execution_count": 3,
     "metadata": {},
     "output_type": "execute_result"
    }
   ],
   "source": [
    "def solution(phone_book):\n",
    "    phone_map = dict() # 딕셔너리 생성\n",
    "\n",
    "    for p in phone_book: # phone_book의 모든 전화번호를 순회하며, \n",
    "                         # 전화번호를 딕셔너리의 키(key)로 하고 해당 키의 값(value)을 0으로 설정\n",
    "                         # => phone_book의 모든 전화번호가 딕셔너리에 저장\n",
    "        phone_map[p] = 0\n",
    "    print(phone_map) # {'119': 0, '97674223': 0, '1195524421': 0}\n",
    "    for i in range(len(phone_book)):\n",
    "        for j in range(len(phone_book[i])):\n",
    "            if phone_book[i][:j] in phone_map:\n",
    "                answer = False\n",
    "                return answer\n",
    "    answer = True\n",
    "    return answer\n",
    "\n",
    "phone_book = [\"119\", \"97674223\", \"1195524421\"]\n",
    "solution(phone_book)"
   ]
  }
 ],
 "metadata": {
  "kernelspec": {
   "display_name": "Python 3",
   "language": "python",
   "name": "python3"
  },
  "language_info": {
   "codemirror_mode": {
    "name": "ipython",
    "version": 3
   },
   "file_extension": ".py",
   "mimetype": "text/x-python",
   "name": "python",
   "nbconvert_exporter": "python",
   "pygments_lexer": "ipython3",
   "version": "3.10.7"
  },
  "orig_nbformat": 4
 },
 "nbformat": 4,
 "nbformat_minor": 2
}

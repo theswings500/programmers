{
 "cells": [
  {
   "cell_type": "markdown",
   "metadata": {},
   "source": [
    "코테 연습문제 lv.1, 달리기 경주\n",
    "https://school.programmers.co.kr/learn/courses/30/lessons/178871"
   ]
  },
  {
   "cell_type": "code",
   "execution_count": 50,
   "metadata": {},
   "outputs": [
    {
     "data": {
      "text/plain": [
       "['mumu', 'kai', 'mine', 'soe', 'poe']"
      ]
     },
     "execution_count": 50,
     "metadata": {},
     "output_type": "execute_result"
    }
   ],
   "source": [
    "def solution(players, callings):\n",
    "    for i in range(len(callings)):\n",
    "        # 해설자가 부른 플레이어(kai) 위치\n",
    "        location = players.index(callings[0])\n",
    "        # callings의 첫번째 값 삭제\n",
    "        del callings[0]\n",
    "        # 위치 변경\n",
    "        players[location], players[location-1] = players[location-1], players[location]\n",
    "    return players\n",
    "\n",
    "players = [\"mumu\", \"soe\", \"poe\", \"kai\", \"mine\"]\n",
    "callings = [\"kai\", \"kai\", \"mine\", \"mine\"]\n",
    "solution(players, callings)"
   ]
  },
  {
   "cell_type": "code",
   "execution_count": 52,
   "metadata": {},
   "outputs": [
    {
     "name": "stdout",
     "output_type": "stream",
     "text": [
      "['mumu', 'kai', 'mine', 'soe', 'poe']\n"
     ]
    }
   ],
   "source": [
    "def solution(players, callings):\n",
    "    positions = {player: index for index, player in enumerate(players)}\n",
    "\n",
    "    for calling in callings:\n",
    "        location = positions[calling]\n",
    "        if location > 0:\n",
    "            other = players[location - 1]\n",
    "            players[location], players[location - 1] = players[location - 1], players[location]\n",
    "            positions[calling], positions[other] = positions[other], positions[calling]\n",
    "\n",
    "    return players\n",
    "\n",
    "players = [\"mumu\", \"soe\", \"poe\", \"kai\", \"mine\"]\n",
    "callings = [\"kai\", \"kai\", \"mine\", \"mine\"]\n",
    "print(solution(players, callings))"
   ]
  },
  {
   "cell_type": "markdown",
   "metadata": {},
   "source": [
    "* 고객의 약관동의를 얻어서 수집된 1~n번으로 분류되는 개인정보 n개\n",
    "* 약관 종류는 여러개\n",
    "* 약관마다 개인정보 보관 유효기간 다름\n",
    "* 나는 각 개인정보가 어떤 약관으로 수집됐는지 알고 있음\n",
    "* 수집된 개인정보는 유효기간 전까지만 보관 가능\n",
    "* 유효기간이 지나면 반드시 파기\n",
    "ex. A 약관 유효기간 12달, 2021년 1월 5일에 수집, 2022년 1월 4일까지 보관 가능, 2022년 1월 5일부터 파기\n",
    "\n",
    "=> 오늘 날짜로 파기해야 할 개인정보 번호를 구하려 함\n",
    "\n",
    "모든 달은 28일까지 존재\n",
    "1달 = 28일"
   ]
  },
  {
   "cell_type": "code",
   "execution_count": null,
   "metadata": {},
   "outputs": [],
   "source": [
    "# 오늘 날짜 today\n",
    "# 약관의 유효기간 1차원 배열 terms\n",
    "# 수집된 개인정보의 1차원 배열 privacies\n",
    "\n",
    "def solution(today, terms, privacies):\n",
    "    answer = []\n",
    "    a = privacies\n",
    "    return answer\n",
    "\n",
    "\n",
    "\n",
    "today = \"2022.05.19\"\n",
    "terms = [\"A 6\", \"B 12\", \"C 3\"]\n",
    "privacies = [\"2021.05.02 A\", \"2021.07.01 B\", \"2022.02.19 C\", \"2022.02.20 C\"]"
   ]
  },
  {
   "cell_type": "markdown",
   "metadata": {},
   "source": [
    "today = 2022 05 19 split?\n",
    "년 2022\n",
    "월 05\n",
    "일 19\n",
    "\n",
    "유효기간 구하는 방법\n",
    "A 약관 유효기간 6달\n",
    "=> 1달에 28일 (168일)\n",
    "=> 일은 구할필요 X, 월만 구하면됨\n",
    "\n",
    "num = 0 선언\n",
    "\n",
    "while (privacies의 길이와 동일하면 멈춤)\n",
    "    if privacies의 길이가 0보다 크다면(privacies가 비어있지 않다면)\n",
    "    1. for문으로 돌려가면서 split으로 리스트의 N번째 값을 분할\n",
    "    1-1. 분할한 값을 딕셔너리에 삽입\n",
    "    1-2. 최종적으로 딕셔너리형으로 (A,6) (B,12) (C,3)으로 분류\n",
    "    * 뒤에 value는 숫자형으로 변환해서 삽입\n",
    "\n",
    "\n",
    "\n",
    "    1. for문 반복, privacies 리스트의 num번쨰(첫번째)값을 선택\n",
    "    2. .을 기준으로 split => 2021, 05, 02 A\n",
    "    3. 공백을 기준으로 split\n",
    "    4. 이 값들을 period 리스트에 저장 [2021, 05, 02] (숫자형으로 저장)\n",
    "    5. A는 type 문자열에 따로 저장\n",
    "\n",
    "\n",
    "\n",
    "    if문 사용>>\n",
    "    type이 A, B, C일때 다르게 적용\n",
    "    1. if문 type이 A라면\n",
    "    2. period 리스트의 1번째 값에 6을 더함\n",
    "        3. if문 preiod[1] + 6 <= 12(12보다 클 경우, 다음년도로 넘어갈경우)\n",
    "            4. preiod[0]값에 1더함\n",
    "            5. 0과 나머지값과 다르게 처리? 할필요있음\n",
    "            6. preiod[1] % 12\n",
    "                => 이 나머지값에 1을 더해서 preiod[1]에 저장, preiod[0]에 1을 더함\n",
    "            ex. 2021년 9월일 경우, 다음년도로 넘어가야됨.\n",
    "            이럴경우, 12 % 12 = 0(1월), 13 % 12 = 1(2월)\n",
    "\n",
    "        7. preiod[1] + 6 > 12(12보다 작을 경우)\n",
    "            period[1]에 6을 더함\n",
    "        \n",
    "    8. elif문 type이 B라면, C라면\n",
    "        => 위 if문과 동일한 방법 수행.\n",
    "\n",
    "    ** 날짜 비교\n",
    "    9. period[22, 03, 02]와 today 비교\n",
    "    10. today도 리스트 형식으로 변환 필요 => todayList = [22, 05, 02]\n",
    "    11. if period[0] < today[0] (period의 년도가 today의 년도보다 작다면 (2021 2022))\n",
    "            num(현재 반복회수, privacies리스트의 해당 값의 위치)를 answer 리스트에 append\n",
    "    12. elif period[0] == today[0] (period의 년도가 today의 년도보다 같다면)\n",
    "            if period[1] < today[1]\n",
    "                num(현재 반복회수, privacies리스트의 해당 값의 위치)를 answer 리스트에 append\n",
    "            elif period[1] == today[1]\n",
    "                if period[2] < today[2]\n",
    "                    num(현재 반복회수, privacies리스트의 해당 값의 위치)를 answer 리스트에 append\n",
    "\n",
    "    while문 마지막에 num +1 추가"
   ]
  },
  {
   "cell_type": "code",
   "execution_count": 8,
   "metadata": {},
   "outputs": [
    {
     "name": "stdout",
     "output_type": "stream",
     "text": [
      "2\n"
     ]
    }
   ],
   "source": [
    "a = 12\n",
    "b = 12\n",
    "\n",
    "print(14 % 12)"
   ]
  }
 ],
 "metadata": {
  "kernelspec": {
   "display_name": "Python 3",
   "language": "python",
   "name": "python3"
  },
  "language_info": {
   "codemirror_mode": {
    "name": "ipython",
    "version": 3
   },
   "file_extension": ".py",
   "mimetype": "text/x-python",
   "name": "python",
   "nbconvert_exporter": "python",
   "pygments_lexer": "ipython3",
   "version": "3.10.7"
  },
  "orig_nbformat": 4
 },
 "nbformat": 4,
 "nbformat_minor": 2
}

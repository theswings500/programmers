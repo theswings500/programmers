{
 "cells": [
  {
   "cell_type": "markdown",
   "metadata": {},
   "source": [
    "코테 연습문제 lv.1, 달리기 경주\n",
    "https://school.programmers.co.kr/learn/courses/30/lessons/178871"
   ]
  },
  {
   "cell_type": "code",
   "execution_count": 50,
   "metadata": {},
   "outputs": [
    {
     "data": {
      "text/plain": [
       "['mumu', 'kai', 'mine', 'soe', 'poe']"
      ]
     },
     "execution_count": 50,
     "metadata": {},
     "output_type": "execute_result"
    }
   ],
   "source": [
    "def solution(players, callings):\n",
    "    for i in range(len(callings)):\n",
    "        # 해설자가 부른 플레이어(kai) 위치\n",
    "        location = players.index(callings[0])\n",
    "        # callings의 첫번째 값 삭제\n",
    "        del callings[0]\n",
    "        # 위치 변경\n",
    "        players[location], players[location-1] = players[location-1], players[location]\n",
    "    return players\n",
    "\n",
    "players = [\"mumu\", \"soe\", \"poe\", \"kai\", \"mine\"]\n",
    "callings = [\"kai\", \"kai\", \"mine\", \"mine\"]\n",
    "solution(players, callings)"
   ]
  },
  {
   "cell_type": "code",
   "execution_count": 52,
   "metadata": {},
   "outputs": [
    {
     "name": "stdout",
     "output_type": "stream",
     "text": [
      "['mumu', 'kai', 'mine', 'soe', 'poe']\n"
     ]
    }
   ],
   "source": [
    "def solution(players, callings):\n",
    "    positions = {player: index for index, player in enumerate(players)}\n",
    "\n",
    "    for calling in callings:\n",
    "        location = positions[calling]\n",
    "        if location > 0:\n",
    "            other = players[location - 1]\n",
    "            players[location], players[location - 1] = players[location - 1], players[location]\n",
    "            positions[calling], positions[other] = positions[other], positions[calling]\n",
    "\n",
    "    return players\n",
    "\n",
    "players = [\"mumu\", \"soe\", \"poe\", \"kai\", \"mine\"]\n",
    "callings = [\"kai\", \"kai\", \"mine\", \"mine\"]\n",
    "print(solution(players, callings))"
   ]
  }
 ],
 "metadata": {
  "kernelspec": {
   "display_name": "Python 3",
   "language": "python",
   "name": "python3"
  },
  "language_info": {
   "codemirror_mode": {
    "name": "ipython",
    "version": 3
   },
   "file_extension": ".py",
   "mimetype": "text/x-python",
   "name": "python",
   "nbconvert_exporter": "python",
   "pygments_lexer": "ipython3",
   "version": "3.10.7"
  },
  "orig_nbformat": 4
 },
 "nbformat": 4,
 "nbformat_minor": 2
}

{
 "cells": [
  {
   "cell_type": "markdown",
   "metadata": {},
   "source": [
    "코테 연습문제 lv.1, 추억 점수\n",
    "https://school.programmers.co.kr/learn/courses/30/lessons/176963"
   ]
  },
  {
   "cell_type": "markdown",
   "metadata": {},
   "source": [
    "추억 점수\n",
    "1. 사진별로 추억 점수를 매긴다.\n",
    "2. 사진 속에 나오는 사람의 그리움 점수를 모두 더한 값이 해당 사진의 추억 점수.\n",
    "ex. 사진 속 사람의 이름이 [\"메이\", \"케인\", \"카인\"], 그리움 점수 [\"5점\", \"10점\", \"1점\"]일때 해당 사진의 추억 점수는 16(5+10+1)입니다.\n",
    "ex. [\"카일\",\"마리\",\"돈\", \"토니\"]의 그리움 점수가 [\"11점\", \"1점\", \"55점\"]이며, \"토니\"의 그리움 점수가 없을 경우, 이 사진의 추억 점수는 3명의 점수만 더한 67점(11+1+55)이다.\n",
    "3. 그리워하는 사람의 이름을 담은 문자열 배열  \n",
    "name = [], 문자열\n",
    "4. 각 사람별 그리움 점수를 담은 정수 배열  \n",
    "yearinig = [], 정수\n",
    "5. 각 사진에 찍힌 인물의 이름을 담은 이차원 문자열 배열 photo  \n",
    "photo = [[]], 문자열\n",
    "6. 사진들의 추억 점수를 photo에 주어진 순서대로 배열에 담아 return하는 솔루션 함수 완성"
   ]
  },
  {
   "cell_type": "markdown",
   "metadata": {},
   "source": [
    "name = a, b, c\n",
    "yearning = 2, 3\n",
    "photo = [[a, b], [b, c], [a, b, c]]\n",
    "튜플 = (a, 2), (b, 3)\n",
    "\n",
    "photo값 찾기 쉽지\n",
    "1. yearning의 길이를 중심으로 해야함.\n",
    "2. name의 값을 key, yearning의 값을 value로 튜플 생성\n",
    "2-2. 만약 name의 길이가 3, yearning은 2로 값이 부족하다면, (c, 0) 0으로 설정\n",
    "3. photo값과 튜플 값을 비교하여 result 리스트에 append"
   ]
  },
  {
   "cell_type": "code",
   "execution_count": 30,
   "metadata": {},
   "outputs": [
    {
     "name": "stdout",
     "output_type": "stream",
     "text": [
      "[19, 15, 6]\n"
     ]
    }
   ],
   "source": [
    "def solution(name, yearning, photo):\n",
    "    answer = []\n",
    "    t = []\n",
    "    for i in range(len(name)): # name의 길이만큼 for문 반복하여 튜플 생성\n",
    "        y = yearning[i] if i < len(yearning) else 0\n",
    "        t.append((name[i], y))\n",
    "        # t 딕셔너리로 변환\n",
    "    t_dict = dict(t)\n",
    "\n",
    "\n",
    "    for sublist in photo:\n",
    "        sum_values = 0\n",
    "        for name in sublist:\n",
    "            # 매칭되는 이름이 t 딕셔너리에 있으면 값을 더하기\n",
    "            if name in t_dict:\n",
    "                sum_values += t_dict[name]\n",
    "        \n",
    "        # 각 사진별 값의 합을 결과 리스트에 추가\n",
    "        answer.append(sum_values)\n",
    "    print(answer)\n",
    "    return answer\n",
    "\n",
    "solution(name, yearning, photo)\n",
    "\n",
    "name = [\"may\", \"kein\", \"kain\", \"radi\"]\n",
    "yearning = [5, 10, 1, 3]\n",
    "photo = [[\"may\", \"kein\", \"kain\", \"radi\"],[\"may\", \"kein\", \"brin\", \"deny\"], [\"kon\", \"kain\", \"may\", \"coni\"]]"
   ]
  },
  {
   "cell_type": "code",
   "execution_count": 33,
   "metadata": {},
   "outputs": [
    {
     "name": "stdout",
     "output_type": "stream",
     "text": [
      "[('may', 5), ('kein', 10), ('kain', 1), ('radi', 0)]\n",
      "[0]\n"
     ]
    }
   ],
   "source": [
    "name = [\"may\", \"kein\", \"kain\", \"radi\"]\n",
    "yearning = [5, 10, 1]\n",
    "photo = [[\"may\", \"kein\", \"kain\", \"radi\"],[\"may\", \"kein\", \"brin\", \"deny\"], [\"kon\", \"kain\", \"may\", \"coni\"]]\n",
    "\n",
    "t = []\n",
    "for i in range(len(name)): # name의 길이만큼 for문 반복하여 튜플 생성\n",
    "    y = yearning[i] if i < len(yearning) else 0\n",
    "    t.append((name[i], y))\n",
    "###\n",
    "\n",
    "result = []\n",
    "\n",
    "'''\n",
    "j = 0\n",
    "\n",
    "for names, value in t:\n",
    "    if names == photo[j]:\n",
    "        result.append(value)\n",
    "\n",
    "    j += 1\n",
    "print(result, t)\n",
    "'''\n",
    "print(t)\n",
    "###\n",
    "total = []\n",
    "total.append(sum(result))\n",
    "print(total)"
   ]
  },
  {
   "cell_type": "code",
   "execution_count": 39,
   "metadata": {},
   "outputs": [
    {
     "name": "stdout",
     "output_type": "stream",
     "text": [
      "{'may': 5, 'kein': 10, 'kain': 1, 'radi': 0}\n"
     ]
    }
   ],
   "source": [
    "t = [('may', 5), ('kein', 10), ('kain', 1), ('radi', 0)]\n",
    "t_dict = dict(t)\n",
    "print(t_dict)"
   ]
  },
  {
   "cell_type": "code",
   "execution_count": 22,
   "metadata": {},
   "outputs": [
    {
     "name": "stdout",
     "output_type": "stream",
     "text": [
      "[16, 15, 6]\n"
     ]
    }
   ],
   "source": [
    "photo = [[\"may\", \"kein\", \"kain\", \"radi\"], [\"may\", \"kein\", \"brin\", \"deny\"], [\"kon\", \"kain\", \"may\", \"coni\"]]\n",
    "t = [('may', 5), ('kein', 10), ('kain', 1), ('radi', 0)]\n",
    "\n",
    "# t 딕셔너리로 변환\n",
    "t_dict = dict(t)\n",
    "\n",
    "matched_values = []\n",
    "\n",
    "for sublist in photo:\n",
    "    sum_values = 0\n",
    "    for name in sublist:\n",
    "        # 매칭되는 이름이 t 딕셔너리에 있으면 값을 더하기\n",
    "        if name in t_dict:\n",
    "            sum_values += t_dict[name]\n",
    "    \n",
    "    # 각 사진별 값의 합을 결과 리스트에 추가\n",
    "    matched_values.append(sum_values)\n",
    "\n",
    "print(matched_values)"
   ]
  },
  {
   "cell_type": "code",
   "execution_count": 21,
   "metadata": {},
   "outputs": [
    {
     "name": "stdout",
     "output_type": "stream",
     "text": [
      "[5, 10, 1, 0, 5, 10, 1, 5]\n"
     ]
    }
   ],
   "source": [
    "photo = [[\"may\", \"kein\", \"kain\", \"radi\"], [\"may\", \"kein\", \"brin\", \"deny\"], [\"kon\", \"kain\", \"may\", \"coni\"]]\n",
    "t = [('may', 5), ('kein', 10), ('kain', 1), ('radi', 0)]\n",
    "\n",
    "# t 딕셔너리로 변환\n",
    "t_dict = dict(t)\n",
    "\n",
    "matched_values = []\n",
    "\n",
    "for sublist in photo:\n",
    "    for name in sublist:\n",
    "        # 매칭되는 이름이 t 딕셔너리에 있으면 값을 새 리스트에 추가\n",
    "        if name in t_dict:\n",
    "            matched_values.append(t_dict[name])\n",
    "        \n",
    "        \n",
    "\n",
    "print(matched_values)\n"
   ]
  },
  {
   "cell_type": "code",
   "execution_count": 34,
   "metadata": {},
   "outputs": [
    {
     "name": "stdout",
     "output_type": "stream",
     "text": [
      "('may', 5)\n"
     ]
    }
   ],
   "source": [
    "t = [('may', 5), ('kein', 10), ('kain', 1), ('radi', 0)]\n",
    "\n",
    "print(t[0])"
   ]
  },
  {
   "cell_type": "code",
   "execution_count": 6,
   "metadata": {},
   "outputs": [
    {
     "name": "stdout",
     "output_type": "stream",
     "text": [
      "5\n"
     ]
    }
   ],
   "source": [
    "data = [('may', 5), ('kein', 10), ('kain', 1), ('radi', 0)]\n",
    "\n",
    "# \"may\"에 대한 값을 찾기\n",
    "may_value = None\n",
    "for name, value in data:\n",
    "    if name == 'may':\n",
    "        may_value = value\n",
    "        break\n",
    "\n",
    "print(may_value)\n"
   ]
  }
 ],
 "metadata": {
  "kernelspec": {
   "display_name": "Python 3",
   "language": "python",
   "name": "python3"
  },
  "language_info": {
   "codemirror_mode": {
    "name": "ipython",
    "version": 3
   },
   "file_extension": ".py",
   "mimetype": "text/x-python",
   "name": "python",
   "nbconvert_exporter": "python",
   "pygments_lexer": "ipython3",
   "version": "3.10.7"
  },
  "orig_nbformat": 4
 },
 "nbformat": 4,
 "nbformat_minor": 2
}

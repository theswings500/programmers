{
 "cells": [
  {
   "cell_type": "markdown",
   "metadata": {},
   "source": [
    "### 카카오 인턴 수식 최대화 LV2\n",
    "https://school.programmers.co.kr/learn/courses/30/lessons/67257  \n",
    "\n",
    "IT벤처 회사를 운영하고 있는 라이언은 매년 사내 해커톤 대회 개최  \n",
    "우승자에게 상금 지급  \n",
    "\n",
    "이번 대회는 우승자에게 지급되는 상금을 이전 대회와는 다른 방식으로 결정하려고함.  \n",
    "\n",
    "1. 해커톤 대회에 참가하는 모든 참가자들에게 숫자, 3가지 연산문자(+, -, *)만으로 이뤄진 연산 수식 전달\n",
    "2. 참가자의 미션은 전달받은 수식에 포함된 연산자의 우선순위를 자유롭게 재정의\n",
    "3. 만들 수 있는 가장 큰 숫자 제출\n",
    "* (단, 연산자의 우선순위를 새로 정의할 때, 같은 순위의 연산자는 없어야 함.)\n",
    "4. + > - > * 또는 - > * > + 처럼 연산자 우선순위 정의 가능\n",
    "5. +, * > - 또는 * > +, - 처럼 2개 이상의 연산자가 동일한 순위를 갖도록 연산은 불가\n",
    "6. 수식에 포함된 연산자가 2개라면 정의 가능한 연산자 우선순위 조합은 2!(팩토리얼) = 2가지, 3개면 3! = 6가지 조합\n",
    "7. 만약 계산 결과가 음수일 경우, 절댓값으로 변환하여 제출 및 제출 숫자가 가장 큰 참가자를 우승자로 선정, 우승자가 제출한 숫자를 우승 상금으로 지급\n",
    "\n",
    "ex. 1. 참가자 중 '네오'가 \"100-200*300-500+20\"의 수식을 전달받음.\n",
    "2. 일반적으로 수학과 전산학에서 약속된 연산자 우선순위에 따르면 더하기와 빼기는 서로 동등함. 곱하기는 더하기, 빼기에 비해 우선순위가 높아 * > +, - 로 우선순위 정의.\n",
    "3. 대회 규칙에 따라 + > - > * 또는 - > * > + 와 같이 연산자 우선순위 정의 가능\n",
    "4. +, * > - 또는 * > +, - 처럼 2개 이상의 연산자가 동일한 순위를 갖도록 연산 우선순위 정의 불가\n",
    "5. 수식에 연산자가 3개 주어져서 가능한 연산자 우선순위 조합은 3! = 6개, 그 중 + > - > * 으로 연산순위 정하면 결과는 22000원\n",
    "6. 반면, * > + > - 로 연산자 우선순위 정하면 수식의 결과값은 -60420이지만, 규칙에 따라 절대값인 60420원\n",
    "-------------------\n",
    "[제한사항]  \n",
    "* \"402+-561*\"처럼 잘못된 수식은 올바른 중위 표기법이 아니므로 안주어짐"
   ]
  },
  {
   "cell_type": "markdown",
   "metadata": {},
   "source": [
    "1. 문자열을 정규 표현식으로 분리하여 리스트에 삽입"
   ]
  },
  {
   "cell_type": "markdown",
   "metadata": {},
   "source": [
    " 0    1   2    3   4    5  6    7 8\n",
    "[100, - , 200 ,* , 300, -, 500, + 20]\n",
    "1. - 먼저\n",
    "2. - 연산자 기준으로 앞뒤의 값을 빼옴\n",
    "2-2. -(1)를 기준 -앞, 뒤 +-1해서 100과 200 가져와서 -로 뺌\n",
    "2-3. 계산한 값을 리스트의 원래 자리에 다시 삽입 해야됨\n",
    "3. 리스트에서 해당 값을 뺄때 첫번째 자리 값을 기억해야함. 그래야 다시 삽입가능"
   ]
  },
  {
   "cell_type": "markdown",
   "metadata": {},
   "source": [
    "리스트 중에서 -를 찾고, -번쨰 자리를 출력"
   ]
  },
  {
   "cell_type": "code",
   "execution_count": 10,
   "metadata": {},
   "outputs": [
    {
     "name": "stdout",
     "output_type": "stream",
     "text": [
      "['*', '300', '-', '500', '+', '20']\n",
      "1\n",
      "-100\n"
     ]
    }
   ],
   "source": [
    "import re\n",
    "mult = ['-', '+', '*']\n",
    "\n",
    "while True:\n",
    "    ex = \"100-200*300-500+20\"\n",
    "\n",
    "    # 1. 숫자와 연산자를 정규 표현식으로 분리\n",
    "    exList = re.findall(r'\\d+|[+\\-*/]', ex)\n",
    "    \n",
    "    if len(exList) <= 0:\n",
    "        # 2. 리스트의 -의 위치값을 num에 담음\n",
    "        num = exList.index('-') \n",
    "\n",
    "        a = int(exList[num-1]) - int(exList[num+1])\n",
    "        del exList[num-1:num+2]\n",
    "    if '-' in exList:\n",
    "        num = exList.index('-')\n",
    "        a = int(exList[num-1]) - int(exList[num+1])\n",
    "    else:\n",
    "\n",
    "    print(exList)\n",
    "    print(num)\n",
    "    print(a)\n"
   ]
  },
  {
   "cell_type": "markdown",
   "metadata": {},
   "source": [
    "exList = ['10', '-', '5', '3']의 0,1,2번째를 문자열로 만드는 코드 알려줘\n"
   ]
  },
  {
   "cell_type": "code",
   "execution_count": 20,
   "metadata": {},
   "outputs": [
    {
     "name": "stdout",
     "output_type": "stream",
     "text": [
      "-100\n"
     ]
    }
   ],
   "source": [
    "mult = ['-', '+', '*']\n",
    "exList = ['100', '-', '200', '*', '300', '-', '500', '+', '20']\n",
    "num = exList.index(mult[0])\n",
    "string = ''.join(exList[0:3])\n",
    "a = eval(string)\n",
    "print(a)"
   ]
  },
  {
   "cell_type": "code",
   "execution_count": 13,
   "metadata": {},
   "outputs": [
    {
     "name": "stdout",
     "output_type": "stream",
     "text": [
      "[['-', '*', '+'], ['-', '+', '*'], ['*', '-', '+'], ['*', '+', '-'], ['+', '-', '*'], ['+', '*', '-']]\n",
      "[0, 20020]\n",
      "[0, 20020, 1, 20020]\n",
      "[0, 20020, 1, 20020, 2, 20020]\n",
      "[0, 20020, 1, 20020, 2, 20020, 3, 20020]\n",
      "[0, 20020, 1, 20020, 2, 20020, 3, 20020, 4, 20020]\n",
      "[0, 20020, 1, 20020, 2, 20020, 3, 20020, 4, 20020, 5, 20020]\n"
     ]
    }
   ],
   "source": [
    "import itertools\n",
    "\n",
    "\n",
    "exList = ['100', '-', '200', '*', '300', '-', '500', '+', '20']\n",
    "exResult = []\n",
    "# 연산자들을 저장할 빈 리스트 생성\n",
    "operators = []\n",
    "\n",
    "for item in exList:\n",
    "    # 만약 현재 요소가 연산자라면 operators에 추가\n",
    "    if item in ['-', '+', '*']:\n",
    "        operators.append(item)\n",
    "\n",
    "operators = list(set(operators))\n",
    "\n",
    "perms = list(itertools.permutations(operators))\n",
    "result_list = []\n",
    "for perm in perms:\n",
    "    result_list.append(list(perm))\n",
    "print(result_list)\n",
    "\n",
    "#a = 0\n",
    "for k in range(len(result_list)):\n",
    "    mult = result_list[k]\n",
    "    for i in range(len(mult)):\n",
    "        #print(mult)\n",
    "        if len(mult) > 0:\n",
    "            if mult[i] in exList:\n",
    "                for j in range(exList.count(mult[i])):\n",
    "                    num = exList.index(mult[i])\n",
    "                    string = ''.join(exList[num-1:num+2])\n",
    "                    del exList[num-1:num+2]\n",
    "                    value = eval(string)\n",
    "                    exList.insert(num-1, str(value))\n",
    "                    #a += value\n",
    "                    #print(j, exList)\n",
    "                    #print(a)\n",
    "    exResult.append(k)\n",
    "    exResult.append(abs(int(exList[0])))\n",
    "    print(exResult)\n",
    "\n"
   ]
  },
  {
   "cell_type": "code",
   "execution_count": 9,
   "metadata": {},
   "outputs": [
    {
     "name": "stdout",
     "output_type": "stream",
     "text": [
      "60420\n",
      "[18000, 20020, 22000, 60420, 60380, 60420]\n"
     ]
    },
    {
     "data": {
      "text/plain": [
       "60420"
      ]
     },
     "execution_count": 9,
     "metadata": {},
     "output_type": "execute_result"
    }
   ],
   "source": [
    "def solution(expression):\n",
    "    import itertools\n",
    "\n",
    "    \n",
    "    # 연산자들을 저장할 빈 리스트 생성\n",
    "    operators = []\n",
    "    Result = []\n",
    "    for item in expression:\n",
    "        # 만약 현재 요소가 연산자라면 operators에 추가\n",
    "        if item in ['-', '+', '*']:\n",
    "            operators.append(item)\n",
    "\n",
    "    operators = list(set(operators))\n",
    "\n",
    "    perms = list(itertools.permutations(operators))\n",
    "    result_list = []\n",
    "    for perm in perms:\n",
    "        result_list.append(list(perm))\n",
    "\n",
    "    exResult=[]\n",
    "\n",
    "    for k in range(len(result_list)):\n",
    "        \n",
    "        # Use a copy of the original list for each permutation.\n",
    "        # This ensures that we always start with the same initial state.\n",
    "        \n",
    "        exList=expression[:]\n",
    "        #exList=expression.copy()\n",
    "\n",
    "        mult=result_list[k]\n",
    "        for i in range(len(mult)):\n",
    "            if len(mult)>0:\n",
    "                if mult[i]in exList: \n",
    "                    while mult[i]in exList: \n",
    "                        num=exList.index(mult[i])\n",
    "                        string=''.join(exList[num-1:num+2])\n",
    "                        \n",
    "                        \n",
    "                        del exList[num-1:num+2]\n",
    "                        value=int(eval(string))\n",
    "                        exList.insert(num-1,str(value)) \n",
    "\n",
    "        #Result.append(k)\n",
    "        Result.append(abs(int(exList[0])))\n",
    "\n",
    "    answer = max(Result)\n",
    "    \n",
    "    print(answer)\n",
    "    print(Result)\n",
    "    return answer\n",
    "\n",
    "\n",
    "expression = ['100', '-', '200', '*', '300', '-', '500', '+', '20']\n",
    "solution(expression)"
   ]
  },
  {
   "cell_type": "code",
   "execution_count": 19,
   "metadata": {},
   "outputs": [
    {
     "name": "stdout",
     "output_type": "stream",
     "text": [
      "60420\n",
      "[20020, 18000, 60380, 60420, 22000, 60420]\n"
     ]
    }
   ],
   "source": [
    "import itertools\n",
    "\n",
    "original_exlist = ['100', '-', '200', '*', '300', '-', '500', '+', '20']\n",
    "# 연산자들을 저장할 빈 리스트 생성\n",
    "operators = []\n",
    "Result = []\n",
    "for item in original_exlist:\n",
    "    # 만약 현재 요소가 연산자라면 operators에 추가\n",
    "    if item in ['-', '+', '*']:\n",
    "        operators.append(item)\n",
    "\n",
    "operators = list(set(operators))\n",
    "\n",
    "perms = list(itertools.permutations(operators))\n",
    "result_list = []\n",
    "for perm in perms:\n",
    "    result_list.append(list(perm))\n",
    "\n",
    "exResult=[]\n",
    "\n",
    "for k in range(len(result_list)):\n",
    "    \n",
    "     # Use a copy of the original list for each permutation.\n",
    "     # This ensures that we always start with the same initial state.\n",
    "     \n",
    "    exList=original_exlist.copy()\n",
    "\n",
    "    mult=result_list[k]\n",
    "    for i in range(len(mult)):\n",
    "        if len(mult)>0:\n",
    "            if mult[i]in exList: \n",
    "                while mult[i]in exList: \n",
    "                    num=exList.index(mult[i])\n",
    "                    string=''.join(exList[num-1:num+2])\n",
    "                    \n",
    "                    \n",
    "                    del exList[num-1:num+2]\n",
    "                    value=int(eval(string))\n",
    "                    exList.insert(num-1,str(value)) \n",
    "\n",
    "    #Result.append(k)\n",
    "    Result.append(abs(int(exList[0])))\n",
    "\n",
    "answer = max(Result)\n",
    "print(answer)\n",
    "print(Result)\n"
   ]
  },
  {
   "cell_type": "code",
   "execution_count": 3,
   "metadata": {},
   "outputs": [
    {
     "name": "stdout",
     "output_type": "stream",
     "text": [
      "60420\n"
     ]
    },
    {
     "data": {
      "text/plain": [
       "60420"
      ]
     },
     "execution_count": 3,
     "metadata": {},
     "output_type": "execute_result"
    }
   ],
   "source": [
    "import re\n",
    "\n",
    "def solution(expression):\n",
    "    # 1. 숫자와 연산자를 정규 표현식으로 분리\n",
    "    expression = re.findall(r'\\d+|[+\\-*/]', expression)\n",
    "    \n",
    "    def get_permutations(elements):\n",
    "        if len(elements) <=1:\n",
    "            return [elements]\n",
    "        else:\n",
    "            perms = []\n",
    "            for i in range(len(elements)):\n",
    "                rest_elements = elements[:i] + elements[i+1:]\n",
    "                for p in get_permutations(rest_elements):\n",
    "                    perms.append([elements[i]] + p)\n",
    "            return perms\n",
    "    # 연산자들을 저장할 빈 리스트 생성\n",
    "    operators = []\n",
    "    Result = []\n",
    "    \n",
    "    for item in expression:\n",
    "        # 만약 현재 요소가 연산자라면 operators에 추가\n",
    "        if item in ['-', '+', '*']:\n",
    "            operators.append(item)\n",
    "\n",
    "    operators = list(set(operators))\n",
    "\n",
    "    perms = get_permutations(operators)\n",
    "    \n",
    "    for k in range(len(perms)):\n",
    "        \n",
    "        # Use a slice of the original list for each permutation.\n",
    "        \n",
    "        exList=expression[:]\n",
    "\n",
    "        mult=perms[k]\n",
    "        \n",
    "        for op in mult:\n",
    "            while op in exList: \n",
    "                num=exList.index(op)\n",
    "                string=''.join(exList[num-1:num+2])\n",
    "                del exList[num-1:num+2]\n",
    "                value=int(eval(string))\n",
    "                exList.insert(num-1,str(value)) \n",
    "\n",
    "        Result.append(abs(int(exList[0])))\n",
    "\n",
    "    answer = max(Result)\n",
    "    \n",
    "    print(answer)\n",
    "    \n",
    "    return answer\n",
    "\n",
    "\n",
    "expression = \"100-200*300-500+20\"\n",
    "solution(expression)\n"
   ]
  },
  {
   "cell_type": "code",
   "execution_count": null,
   "metadata": {},
   "outputs": [],
   "source": [
    "for k in range(len(result_list)):\n",
    "    mult = result_list[k]\n",
    "    for i in range(len(mult)):\n",
    "        print(mult)\n",
    "        if len(mult) > 0:\n",
    "            if mult[i] in exList:\n",
    "                for j in range(exList.count(mult[i])):\n",
    "                    num = exList.index(mult[i])\n",
    "                    string = ''.join(exList[num-1:num+2])\n",
    "                    del exList[num-1:num+2]\n",
    "                    value = eval(string)\n",
    "                    exList.insert(num-1, str(value))\n",
    "                    #a += value\n",
    "                    print(i, exList)\n",
    "                    #print(a)\n",
    "    exResult.append(k)\n",
    "    exResult.append(abs(int(exList[0])))\n",
    "    print(exResult)"
   ]
  },
  {
   "cell_type": "code",
   "execution_count": 5,
   "metadata": {},
   "outputs": [
    {
     "name": "stdout",
     "output_type": "stream",
     "text": [
      "['+', '-', '*']\n",
      "6\n",
      "['+', '-', '*']\n"
     ]
    }
   ],
   "source": [
    "a = [['+', '*', '-'], ['+', '-', '*'], ['*', '+', '-'], ['*', '-', '+'], ['-', '+', '*'], ['-', '*', '+']]\n",
    "b = a[1]\n",
    "print(a[1])\n",
    "print(len(a))\n",
    "print(b)"
   ]
  },
  {
   "cell_type": "code",
   "execution_count": 43,
   "metadata": {},
   "outputs": [
    {
     "name": "stdout",
     "output_type": "stream",
     "text": [
      "['-', '*', '-', '-']\n",
      "['*', '-']\n",
      "[['*', '-'], ['-', '*']]\n"
     ]
    }
   ],
   "source": [
    "import itertools\n",
    "\n",
    "exList = ['100', '-', '200', '*', '300', '-', '500', '-', '20']\n",
    "\n",
    "# 연산자들을 저장할 빈 리스트 생성\n",
    "operators = []\n",
    "\n",
    "for item in exList:\n",
    "    # 만약 현재 요소가 연산자라면 operators에 추가\n",
    "    if item in ['-', '+', '*']:\n",
    "        operators.append(item)\n",
    "\n",
    "print(operators)\n",
    "\n",
    "operators = list(set(operators))\n",
    "print(operators)\n",
    "\n",
    "perms = list(itertools.permutations(operators))\n",
    "result_list = []\n",
    "for perm in perms:\n",
    "    result_list.append(list(perm))\n",
    "print(result_list)"
   ]
  },
  {
   "cell_type": "markdown",
   "metadata": {},
   "source": [
    "mult = ['-', '+', '*'] 리스트가 있을때 연산자의 순서가 모두 다른 리스트들을 생성하는 코드를 알려줘"
   ]
  },
  {
   "cell_type": "code",
   "execution_count": 40,
   "metadata": {},
   "outputs": [
    {
     "name": "stdout",
     "output_type": "stream",
     "text": [
      "[['-', '+', '*'], ['-', '*', '+'], ['+', '-', '*'], ['+', '*', '-'], ['*', '-', '+'], ['*', '+', '-']]\n"
     ]
    }
   ],
   "source": [
    "import itertools\n",
    "\n",
    "mult = ['-', '+', '*']\n",
    "perms = list(itertools.permutations(mult))\n",
    "result_list = []\n",
    "for perm in perms:\n",
    "    result_list.append(list(perm))\n",
    "print(result_list)\n"
   ]
  },
  {
   "cell_type": "code",
   "execution_count": 15,
   "metadata": {},
   "outputs": [
    {
     "ename": "ValueError",
     "evalue": "'l' is not in list",
     "output_type": "error",
     "traceback": [
      "\u001b[1;31m---------------------------------------------------------------------------\u001b[0m",
      "\u001b[1;31mValueError\u001b[0m                                Traceback (most recent call last)",
      "\u001b[1;32mc:\\!GitHub\\CODE\\programmers\\프로그래머스_06_코테연습_수식최대화.ipynb 셀 6\u001b[0m in \u001b[0;36m7\n\u001b[0;32m      <a href='vscode-notebook-cell:/c%3A/%21GitHub/CODE/programmers/%ED%94%84%EB%A1%9C%EA%B7%B8%EB%9E%98%EB%A8%B8%EC%8A%A4_06_%EC%BD%94%ED%85%8C%EC%97%B0%EC%8A%B5_%EC%88%98%EC%8B%9D%EC%B5%9C%EB%8C%80%ED%99%94.ipynb#X13sZmlsZQ%3D%3D?line=3'>4</a>\u001b[0m exList \u001b[39m=\u001b[39m re\u001b[39m.\u001b[39mfindall(\u001b[39mr\u001b[39m\u001b[39m'\u001b[39m\u001b[39m\\\u001b[39m\u001b[39md+|[+\u001b[39m\u001b[39m\\\u001b[39m\u001b[39m-*/]\u001b[39m\u001b[39m'\u001b[39m, ex)\n\u001b[0;32m      <a href='vscode-notebook-cell:/c%3A/%21GitHub/CODE/programmers/%ED%94%84%EB%A1%9C%EA%B7%B8%EB%9E%98%EB%A8%B8%EC%8A%A4_06_%EC%BD%94%ED%85%8C%EC%97%B0%EC%8A%B5_%EC%88%98%EC%8B%9D%EC%B5%9C%EB%8C%80%ED%99%94.ipynb#X13sZmlsZQ%3D%3D?line=5'>6</a>\u001b[0m \u001b[39m# 2. 리스트의 -의 위치값을 num에 담음\u001b[39;00m\n\u001b[1;32m----> <a href='vscode-notebook-cell:/c%3A/%21GitHub/CODE/programmers/%ED%94%84%EB%A1%9C%EA%B7%B8%EB%9E%98%EB%A8%B8%EC%8A%A4_06_%EC%BD%94%ED%85%8C%EC%97%B0%EC%8A%B5_%EC%88%98%EC%8B%9D%EC%B5%9C%EB%8C%80%ED%99%94.ipynb#X13sZmlsZQ%3D%3D?line=6'>7</a>\u001b[0m num \u001b[39m=\u001b[39m exList\u001b[39m.\u001b[39;49mindex(\u001b[39m'\u001b[39;49m\u001b[39ml\u001b[39;49m\u001b[39m'\u001b[39;49m)\n\u001b[0;32m      <a href='vscode-notebook-cell:/c%3A/%21GitHub/CODE/programmers/%ED%94%84%EB%A1%9C%EA%B7%B8%EB%9E%98%EB%A8%B8%EC%8A%A4_06_%EC%BD%94%ED%85%8C%EC%97%B0%EC%8A%B5_%EC%88%98%EC%8B%9D%EC%B5%9C%EB%8C%80%ED%99%94.ipynb#X13sZmlsZQ%3D%3D?line=7'>8</a>\u001b[0m \u001b[39mprint\u001b[39m(num) \n",
      "\u001b[1;31mValueError\u001b[0m: 'l' is not in list"
     ]
    }
   ],
   "source": [
    "ex = \"100-200*300-500+20/\"\n",
    "\n",
    "# 1. 숫자와 연산자를 정규 표현식으로 분리\n",
    "exList = re.findall(r'\\d+|[+\\-*/]', ex)\n",
    "\n",
    "# 2. 리스트의 -의 위치값을 num에 담음\n",
    "num = exList.index('l')\n",
    "print(num) "
   ]
  },
  {
   "cell_type": "code",
   "execution_count": 1,
   "metadata": {},
   "outputs": [
    {
     "name": "stdout",
     "output_type": "stream",
     "text": [
      "['100', '-', '200', '*', '300', '-', '500', '+', '20']\n"
     ]
    }
   ],
   "source": [
    "import re\n",
    "\n",
    "s = \"100-200*300-500+20\"\n",
    "\n",
    "# 숫자와 연산자를 분리합니다.\n",
    "result = re.findall(r'\\d+|[+\\-*/]', s)\n",
    "\n",
    "# 결과를 출력합니다.\n",
    "print(result)  # ['100', '-', '200', '*', '300', '-', '500', '+', '20']"
   ]
  },
  {
   "cell_type": "markdown",
   "metadata": {},
   "source": [
    "\"100-200*300-500+20\"\n",
    "1. [100 200 300 500 20] 리스트로 분리, 분리할떄 split + - * 연산자 사용\n",
    "2. 숫자를 제외한 [- * - +]를 리스트로 분리\n",
    "3. 연산자 우선순위 적용\n",
    "4. 방법은 6가지(if문 사용 6가지밖에 안되니까)\n",
    "5. ex. 첫번째 방법 (1. - 2. + 3. *)\n",
    "6. -(빼기)먼저 계산 100-200\n",
    "7. 100(0), 200(1)    -(0)\n",
    "8. 계산완료한 변수에 += 하여 값 증가\n",
    "9. -100"
   ]
  },
  {
   "cell_type": "code",
   "execution_count": null,
   "metadata": {},
   "outputs": [],
   "source": []
  }
 ],
 "metadata": {
  "kernelspec": {
   "display_name": "Python 3",
   "language": "python",
   "name": "python3"
  },
  "language_info": {
   "codemirror_mode": {
    "name": "ipython",
    "version": 3
   },
   "file_extension": ".py",
   "mimetype": "text/x-python",
   "name": "python",
   "nbconvert_exporter": "python",
   "pygments_lexer": "ipython3",
   "version": "3.10.7"
  },
  "orig_nbformat": 4
 },
 "nbformat": 4,
 "nbformat_minor": 2
}
